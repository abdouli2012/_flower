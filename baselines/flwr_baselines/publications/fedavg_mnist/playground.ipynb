{
 "cells": [
  {
   "cell_type": "code",
   "execution_count": 1,
   "metadata": {},
   "outputs": [],
   "source": [
    "import client\n",
    "import model\n",
    "import dataset\n",
    "import flwr as fl\n",
    "from flwr.common import Metrics\n",
    "\n",
    "import torch\n",
    "\n",
    "from typing import List, Tuple"
   ]
  },
  {
   "cell_type": "code",
   "execution_count": 2,
   "metadata": {},
   "outputs": [],
   "source": [
    "def weighted_average(metrics: List[Tuple[int, Metrics]]) -> Metrics:\n",
    "    # Multiply accuracy of each client by number of examples used\n",
    "    accuracies = [num_examples * m[\"accuracy\"] for num_examples, m in metrics]\n",
    "    examples = [num_examples for num_examples, _ in metrics]\n",
    "    \n",
    "    # Aggregate and return custom metric (weighted average)\n",
    "    return {\"accuracy\": sum(accuracies) / sum(examples)}"
   ]
  },
  {
   "cell_type": "code",
   "execution_count": 3,
   "metadata": {},
   "outputs": [
    {
     "name": "stderr",
     "output_type": "stream",
     "text": [
      "INFO flower 2022-12-05 15:45:06,915 | app.py:143 | Starting Flower simulation, config: ServerConfig(num_rounds=5, round_timeout=None)\n",
      "2022-12-05 15:45:08,898\tINFO worker.py:1528 -- Started a local Ray instance.\n",
      "INFO flower 2022-12-05 15:45:10,208 | app.py:177 | Flower VCE: Ray initialized with resources: {'object_store_memory': 2553102336.0, 'node:172.22.22.55': 1.0, 'CPU': 8.0, 'memory': 5106204672.0, 'accelerator_type:G': 1.0, 'GPU': 1.0}\n",
      "INFO flower 2022-12-05 15:45:10,210 | server.py:86 | Initializing global parameters\n",
      "INFO flower 2022-12-05 15:45:10,211 | server.py:270 | Requesting initial parameters from one random client\n",
      "INFO flower 2022-12-05 15:45:11,316 | server.py:274 | Received initial parameters from one random client\n",
      "INFO flower 2022-12-05 15:45:11,317 | server.py:88 | Evaluating initial parameters\n",
      "INFO flower 2022-12-05 15:45:11,318 | server.py:101 | FL starting\n",
      "DEBUG flower 2022-12-05 15:45:11,319 | server.py:220 | fit_round 1: strategy sampled 10 clients (out of 10)\n",
      "\u001b[2m\u001b[36m(launch_and_fit pid=140363)\u001b[0m /home/main/.pyenv/versions/3.7.12/envs/flower-3.7.12/lib/python3.7/site-packages/torch/autograd/__init__.py:199: UserWarning: CUDA initialization: CUDA unknown error - this may be due to an incorrectly set up environment, e.g. changing env variable CUDA_VISIBLE_DEVICES after program start. Setting the available devices to be zero. (Triggered internally at ../c10/cuda/CUDAFunctions.cpp:109.)\n",
      "\u001b[2m\u001b[36m(launch_and_fit pid=140363)\u001b[0m   allow_unreachable=True, accumulate_grad=True)  # Calls into the C++ engine to run the backward pass\n",
      "\u001b[2m\u001b[36m(launch_and_fit pid=140359)\u001b[0m /home/main/.pyenv/versions/3.7.12/envs/flower-3.7.12/lib/python3.7/site-packages/torch/autograd/__init__.py:199: UserWarning: CUDA initialization: CUDA unknown error - this may be due to an incorrectly set up environment, e.g. changing env variable CUDA_VISIBLE_DEVICES after program start. Setting the available devices to be zero. (Triggered internally at ../c10/cuda/CUDAFunctions.cpp:109.)\n",
      "\u001b[2m\u001b[36m(launch_and_fit pid=140359)\u001b[0m   allow_unreachable=True, accumulate_grad=True)  # Calls into the C++ engine to run the backward pass\n",
      "\u001b[2m\u001b[36m(launch_and_fit pid=140358)\u001b[0m /home/main/.pyenv/versions/3.7.12/envs/flower-3.7.12/lib/python3.7/site-packages/torch/autograd/__init__.py:199: UserWarning: CUDA initialization: CUDA unknown error - this may be due to an incorrectly set up environment, e.g. changing env variable CUDA_VISIBLE_DEVICES after program start. Setting the available devices to be zero. (Triggered internally at ../c10/cuda/CUDAFunctions.cpp:109.)\n",
      "\u001b[2m\u001b[36m(launch_and_fit pid=140358)\u001b[0m   allow_unreachable=True, accumulate_grad=True)  # Calls into the C++ engine to run the backward pass\n",
      "\u001b[2m\u001b[36m(launch_and_fit pid=140364)\u001b[0m /home/main/.pyenv/versions/3.7.12/envs/flower-3.7.12/lib/python3.7/site-packages/torch/autograd/__init__.py:199: UserWarning: CUDA initialization: CUDA unknown error - this may be due to an incorrectly set up environment, e.g. changing env variable CUDA_VISIBLE_DEVICES after program start. Setting the available devices to be zero. (Triggered internally at ../c10/cuda/CUDAFunctions.cpp:109.)\n",
      "\u001b[2m\u001b[36m(launch_and_fit pid=140364)\u001b[0m   allow_unreachable=True, accumulate_grad=True)  # Calls into the C++ engine to run the backward pass\n",
      "\u001b[2m\u001b[36m(launch_and_fit pid=140357)\u001b[0m /home/main/.pyenv/versions/3.7.12/envs/flower-3.7.12/lib/python3.7/site-packages/torch/autograd/__init__.py:199: UserWarning: CUDA initialization: CUDA unknown error - this may be due to an incorrectly set up environment, e.g. changing env variable CUDA_VISIBLE_DEVICES after program start. Setting the available devices to be zero. (Triggered internally at ../c10/cuda/CUDAFunctions.cpp:109.)\n",
      "\u001b[2m\u001b[36m(launch_and_fit pid=140357)\u001b[0m   allow_unreachable=True, accumulate_grad=True)  # Calls into the C++ engine to run the backward pass\n",
      "\u001b[2m\u001b[36m(launch_and_fit pid=140361)\u001b[0m /home/main/.pyenv/versions/3.7.12/envs/flower-3.7.12/lib/python3.7/site-packages/torch/autograd/__init__.py:199: UserWarning: CUDA initialization: CUDA unknown error - this may be due to an incorrectly set up environment, e.g. changing env variable CUDA_VISIBLE_DEVICES after program start. Setting the available devices to be zero. (Triggered internally at ../c10/cuda/CUDAFunctions.cpp:109.)\n",
      "\u001b[2m\u001b[36m(launch_and_fit pid=140361)\u001b[0m   allow_unreachable=True, accumulate_grad=True)  # Calls into the C++ engine to run the backward pass\n",
      "\u001b[2m\u001b[36m(launch_and_fit pid=140360)\u001b[0m /home/main/.pyenv/versions/3.7.12/envs/flower-3.7.12/lib/python3.7/site-packages/torch/autograd/__init__.py:199: UserWarning: CUDA initialization: CUDA unknown error - this may be due to an incorrectly set up environment, e.g. changing env variable CUDA_VISIBLE_DEVICES after program start. Setting the available devices to be zero. (Triggered internally at ../c10/cuda/CUDAFunctions.cpp:109.)\n",
      "\u001b[2m\u001b[36m(launch_and_fit pid=140360)\u001b[0m   allow_unreachable=True, accumulate_grad=True)  # Calls into the C++ engine to run the backward pass\n",
      "\u001b[2m\u001b[36m(launch_and_fit pid=140362)\u001b[0m /home/main/.pyenv/versions/3.7.12/envs/flower-3.7.12/lib/python3.7/site-packages/torch/autograd/__init__.py:199: UserWarning: CUDA initialization: CUDA unknown error - this may be due to an incorrectly set up environment, e.g. changing env variable CUDA_VISIBLE_DEVICES after program start. Setting the available devices to be zero. (Triggered internally at ../c10/cuda/CUDAFunctions.cpp:109.)\n",
      "\u001b[2m\u001b[36m(launch_and_fit pid=140362)\u001b[0m   allow_unreachable=True, accumulate_grad=True)  # Calls into the C++ engine to run the backward pass\n",
      "DEBUG flower 2022-12-05 15:45:53,849 | server.py:234 | fit_round 1 received 10 results and 0 failures\n",
      "WARNING flower 2022-12-05 15:45:54,271 | fedavg.py:242 | No fit_metrics_aggregation_fn provided\n",
      "DEBUG flower 2022-12-05 15:45:54,272 | server.py:170 | evaluate_round 1: strategy sampled 5 clients (out of 10)\n",
      "DEBUG flower 2022-12-05 15:45:55,077 | server.py:184 | evaluate_round 1 received 5 results and 0 failures\n",
      "DEBUG flower 2022-12-05 15:45:55,078 | server.py:220 | fit_round 2: strategy sampled 10 clients (out of 10)\n",
      "DEBUG flower 2022-12-05 15:46:37,876 | server.py:234 | fit_round 2 received 10 results and 0 failures\n",
      "DEBUG flower 2022-12-05 15:46:38,151 | server.py:170 | evaluate_round 2: strategy sampled 5 clients (out of 10)\n",
      "DEBUG flower 2022-12-05 15:46:38,961 | server.py:184 | evaluate_round 2 received 5 results and 0 failures\n",
      "DEBUG flower 2022-12-05 15:46:38,962 | server.py:220 | fit_round 3: strategy sampled 10 clients (out of 10)\n",
      "DEBUG flower 2022-12-05 15:47:22,629 | server.py:234 | fit_round 3 received 10 results and 0 failures\n",
      "DEBUG flower 2022-12-05 15:47:22,869 | server.py:170 | evaluate_round 3: strategy sampled 5 clients (out of 10)\n",
      "DEBUG flower 2022-12-05 15:47:23,651 | server.py:184 | evaluate_round 3 received 5 results and 0 failures\n",
      "DEBUG flower 2022-12-05 15:47:23,653 | server.py:220 | fit_round 4: strategy sampled 10 clients (out of 10)\n",
      "DEBUG flower 2022-12-05 15:48:06,827 | server.py:234 | fit_round 4 received 10 results and 0 failures\n",
      "DEBUG flower 2022-12-05 15:48:07,072 | server.py:170 | evaluate_round 4: strategy sampled 5 clients (out of 10)\n",
      "DEBUG flower 2022-12-05 15:48:07,866 | server.py:184 | evaluate_round 4 received 5 results and 0 failures\n",
      "DEBUG flower 2022-12-05 15:48:07,867 | server.py:220 | fit_round 5: strategy sampled 10 clients (out of 10)\n",
      "DEBUG flower 2022-12-05 15:48:51,395 | server.py:234 | fit_round 5 received 10 results and 0 failures\n",
      "DEBUG flower 2022-12-05 15:48:51,578 | server.py:170 | evaluate_round 5: strategy sampled 5 clients (out of 10)\n",
      "DEBUG flower 2022-12-05 15:48:52,440 | server.py:184 | evaluate_round 5 received 5 results and 0 failures\n",
      "INFO flower 2022-12-05 15:48:52,441 | server.py:144 | FL finished in 221.1213076050044\n",
      "INFO flower 2022-12-05 15:48:52,445 | app.py:192 | app_fit: losses_distributed [(1, 0.06668758010864259), (2, 0.04564744263887405), (3, 0.03340614410241445), (4, 0.029205763339996332), (5, 0.010537337633470693)]\n",
      "INFO flower 2022-12-05 15:48:52,446 | app.py:193 | app_fit: metrics_distributed {'accuracy': [(1, 0.5733333333333334), (2, 0.5646666666666667), (3, 0.7026666666666667), (4, 0.7116666666666667), (5, 0.954)]}\n",
      "INFO flower 2022-12-05 15:48:52,447 | app.py:194 | app_fit: losses_centralized []\n",
      "INFO flower 2022-12-05 15:48:52,448 | app.py:195 | app_fit: metrics_centralized {}\n"
     ]
    },
    {
     "data": {
      "text/plain": [
       "History (loss, distributed):\n",
       "\tround 1: 0.06668758010864259\n",
       "\tround 2: 0.04564744263887405\n",
       "\tround 3: 0.03340614410241445\n",
       "\tround 4: 0.029205763339996332\n",
       "\tround 5: 0.010537337633470693\n",
       "History (metrics, distributed):\n",
       "{'accuracy': [(1, 0.5733333333333334), (2, 0.5646666666666667), (3, 0.7026666666666667), (4, 0.7116666666666667), (5, 0.954)]}"
      ]
     },
     "execution_count": 3,
     "metadata": {},
     "output_type": "execute_result"
    }
   ],
   "source": [
    "strategy = fl.server.strategy.FedAvg(\n",
    "        fraction_fit=1.0,  # Sample 100% of available clients for training\n",
    "        fraction_evaluate=0.5,  # Sample 50% of available clients for evaluation\n",
    "        min_fit_clients=10,  # Never sample less than 10 clients for training\n",
    "        min_evaluate_clients=5,  # Never sample less than 5 clients for evaluation\n",
    "        min_available_clients=10,  # Wait until all 10 clients are available\n",
    "        evaluate_metrics_aggregation_fn=weighted_average,\n",
    ")\n",
    "\n",
    "# Start simulation\n",
    "fl.simulation.start_simulation(\n",
    "    client_fn=client.client_fn,\n",
    "    num_clients=10,\n",
    "    config=fl.server.ServerConfig(num_rounds=5),\n",
    "    strategy=strategy,\n",
    ")"
   ]
  },
  {
   "cell_type": "code",
   "execution_count": 171,
   "metadata": {},
   "outputs": [],
   "source": [
    "def test_cnn_size_mnist() -> None:\n",
    "    \"\"\"Test number of parameters with MNIST-sized inputs.\"\"\"\n",
    "    # Prepare\n",
    "    net = model.Net()\n",
    "    expected = 1_663_370\n",
    "\n",
    "    # Execute\n",
    "    actual = sum([p.numel() for p in net.parameters()])\n",
    "\n",
    "    # Assert\n",
    "    assert actual == expected\n",
    "\n",
    "test_cnn_size_mnist()"
   ]
  }
 ],
 "metadata": {
  "kernelspec": {
   "display_name": "flower-3.7.12",
   "language": "python",
   "name": "python3"
  },
  "language_info": {
   "codemirror_mode": {
    "name": "ipython",
    "version": 3
   },
   "file_extension": ".py",
   "mimetype": "text/x-python",
   "name": "python",
   "nbconvert_exporter": "python",
   "pygments_lexer": "ipython3",
   "version": "3.7.12"
  },
  "orig_nbformat": 4,
  "vscode": {
   "interpreter": {
    "hash": "ff0e7e73423825eaf7d430d88292516655b1dd0328de2b087d30a074efd4ace4"
   }
  }
 },
 "nbformat": 4,
 "nbformat_minor": 2
}
