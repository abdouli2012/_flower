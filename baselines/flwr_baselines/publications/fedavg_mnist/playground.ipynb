{
 "cells": [
  {
   "cell_type": "code",
   "execution_count": 1,
   "metadata": {},
   "outputs": [
    {
     "name": "stderr",
     "output_type": "stream",
     "text": [
      "/home/main/.pyenv/versions/3.7.12/envs/flower-3.7.12/lib/python3.7/site-packages/torch/cuda/__init__.py:80: UserWarning: CUDA initialization: CUDA unknown error - this may be due to an incorrectly set up environment, e.g. changing env variable CUDA_VISIBLE_DEVICES after program start. Setting the available devices to be zero. (Triggered internally at  ../c10/cuda/CUDAFunctions.cpp:112.)\n",
      "  return torch._C._cuda_getDeviceCount() > 0\n"
     ]
    }
   ],
   "source": [
    "import client\n",
    "import model\n",
    "import dataset\n",
    "import flwr as fl\n",
    "from flwr.common import Metrics\n",
    "\n",
    "import torch\n",
    "\n",
    "from typing import List, Tuple"
   ]
  },
  {
   "cell_type": "code",
   "execution_count": 2,
   "metadata": {},
   "outputs": [],
   "source": [
    "def weighted_average(metrics: List[Tuple[int, Metrics]]) -> Metrics:\n",
    "    # Multiply accuracy of each client by number of examples used\n",
    "    accuracies = [num_examples * m[\"accuracy\"] for num_examples, m in metrics]\n",
    "    examples = [num_examples for num_examples, _ in metrics]\n",
    "    \n",
    "    # Aggregate and return custom metric (weighted average)\n",
    "    return {\"accuracy\": sum(accuracies) / sum(examples)}"
   ]
  },
  {
   "cell_type": "code",
   "execution_count": 3,
   "metadata": {},
   "outputs": [
    {
     "name": "stderr",
     "output_type": "stream",
     "text": [
      "INFO flower 2022-12-06 12:42:21,197 | app.py:145 | Starting Flower simulation, config: ServerConfig(num_rounds=5, round_timeout=None)\n",
      "INFO flower 2022-12-06 12:42:24,363 | app.py:179 | Flower VCE: Ray initialized with resources: {'memory': 5886507419.0, 'object_store_memory': 2943253708.0, 'accelerator_type:G': 1.0, 'GPU': 1.0, 'CPU': 8.0, 'node:128.179.187.61': 1.0}\n",
      "INFO flower 2022-12-06 12:42:24,369 | server.py:86 | Initializing global parameters\n",
      "INFO flower 2022-12-06 12:42:24,372 | server.py:270 | Requesting initial parameters from one random client\n",
      "\u001b[2m\u001b[36m(launch_and_get_parameters pid=223355)\u001b[0m /home/main/.pyenv/versions/3.7.12/envs/flower-3.7.12/lib/python3.7/site-packages/torch/cuda/__init__.py:80: UserWarning: CUDA initialization: CUDA unknown error - this may be due to an incorrectly set up environment, e.g. changing env variable CUDA_VISIBLE_DEVICES after program start. Setting the available devices to be zero. (Triggered internally at  ../c10/cuda/CUDAFunctions.cpp:112.)\n",
      "\u001b[2m\u001b[36m(launch_and_get_parameters pid=223355)\u001b[0m   return torch._C._cuda_getDeviceCount() > 0\n",
      "INFO flower 2022-12-06 12:42:26,110 | server.py:274 | Received initial parameters from one random client\n",
      "INFO flower 2022-12-06 12:42:26,111 | server.py:88 | Evaluating initial parameters\n",
      "INFO flower 2022-12-06 12:42:26,112 | server.py:101 | FL starting\n",
      "DEBUG flower 2022-12-06 12:42:26,113 | server.py:220 | fit_round 1: strategy sampled 10 clients (out of 10)\n",
      "\u001b[2m\u001b[36m(launch_and_fit pid=223354)\u001b[0m /home/main/.pyenv/versions/3.7.12/envs/flower-3.7.12/lib/python3.7/site-packages/torch/cuda/__init__.py:80: UserWarning: CUDA initialization: CUDA unknown error - this may be due to an incorrectly set up environment, e.g. changing env variable CUDA_VISIBLE_DEVICES after program start. Setting the available devices to be zero. (Triggered internally at  ../c10/cuda/CUDAFunctions.cpp:112.)\n",
      "\u001b[2m\u001b[36m(launch_and_fit pid=223354)\u001b[0m   return torch._C._cuda_getDeviceCount() > 0\n",
      "\u001b[2m\u001b[36m(launch_and_fit pid=223348)\u001b[0m /home/main/.pyenv/versions/3.7.12/envs/flower-3.7.12/lib/python3.7/site-packages/torch/cuda/__init__.py:80: UserWarning: CUDA initialization: CUDA unknown error - this may be due to an incorrectly set up environment, e.g. changing env variable CUDA_VISIBLE_DEVICES after program start. Setting the available devices to be zero. (Triggered internally at  ../c10/cuda/CUDAFunctions.cpp:112.)\n",
      "\u001b[2m\u001b[36m(launch_and_fit pid=223348)\u001b[0m   return torch._C._cuda_getDeviceCount() > 0\n",
      "\u001b[2m\u001b[36m(launch_and_fit pid=223352)\u001b[0m /home/main/.pyenv/versions/3.7.12/envs/flower-3.7.12/lib/python3.7/site-packages/torch/cuda/__init__.py:80: UserWarning: CUDA initialization: CUDA unknown error - this may be due to an incorrectly set up environment, e.g. changing env variable CUDA_VISIBLE_DEVICES after program start. Setting the available devices to be zero. (Triggered internally at  ../c10/cuda/CUDAFunctions.cpp:112.)\n",
      "\u001b[2m\u001b[36m(launch_and_fit pid=223352)\u001b[0m   return torch._C._cuda_getDeviceCount() > 0\n",
      "\u001b[2m\u001b[36m(launch_and_fit pid=223350)\u001b[0m /home/main/.pyenv/versions/3.7.12/envs/flower-3.7.12/lib/python3.7/site-packages/torch/cuda/__init__.py:80: UserWarning: CUDA initialization: CUDA unknown error - this may be due to an incorrectly set up environment, e.g. changing env variable CUDA_VISIBLE_DEVICES after program start. Setting the available devices to be zero. (Triggered internally at  ../c10/cuda/CUDAFunctions.cpp:112.)\n",
      "\u001b[2m\u001b[36m(launch_and_fit pid=223350)\u001b[0m   return torch._C._cuda_getDeviceCount() > 0\n",
      "\u001b[2m\u001b[36m(launch_and_fit pid=223353)\u001b[0m /home/main/.pyenv/versions/3.7.12/envs/flower-3.7.12/lib/python3.7/site-packages/torch/cuda/__init__.py:80: UserWarning: CUDA initialization: CUDA unknown error - this may be due to an incorrectly set up environment, e.g. changing env variable CUDA_VISIBLE_DEVICES after program start. Setting the available devices to be zero. (Triggered internally at  ../c10/cuda/CUDAFunctions.cpp:112.)\n",
      "\u001b[2m\u001b[36m(launch_and_fit pid=223353)\u001b[0m   return torch._C._cuda_getDeviceCount() > 0\n",
      "\u001b[2m\u001b[36m(launch_and_fit pid=223351)\u001b[0m /home/main/.pyenv/versions/3.7.12/envs/flower-3.7.12/lib/python3.7/site-packages/torch/cuda/__init__.py:80: UserWarning: CUDA initialization: CUDA unknown error - this may be due to an incorrectly set up environment, e.g. changing env variable CUDA_VISIBLE_DEVICES after program start. Setting the available devices to be zero. (Triggered internally at  ../c10/cuda/CUDAFunctions.cpp:112.)\n",
      "\u001b[2m\u001b[36m(launch_and_fit pid=223351)\u001b[0m   return torch._C._cuda_getDeviceCount() > 0\n",
      "\u001b[2m\u001b[36m(launch_and_fit pid=223349)\u001b[0m /home/main/.pyenv/versions/3.7.12/envs/flower-3.7.12/lib/python3.7/site-packages/torch/cuda/__init__.py:80: UserWarning: CUDA initialization: CUDA unknown error - this may be due to an incorrectly set up environment, e.g. changing env variable CUDA_VISIBLE_DEVICES after program start. Setting the available devices to be zero. (Triggered internally at  ../c10/cuda/CUDAFunctions.cpp:112.)\n",
      "\u001b[2m\u001b[36m(launch_and_fit pid=223349)\u001b[0m   return torch._C._cuda_getDeviceCount() > 0\n",
      "DEBUG flower 2022-12-06 12:43:15,190 | server.py:234 | fit_round 1 received 10 results and 0 failures\n",
      "WARNING flower 2022-12-06 12:43:15,812 | fedavg.py:243 | No fit_metrics_aggregation_fn provided\n",
      "DEBUG flower 2022-12-06 12:43:15,814 | server.py:170 | evaluate_round 1: strategy sampled 5 clients (out of 10)\n",
      "DEBUG flower 2022-12-06 12:43:16,840 | server.py:184 | evaluate_round 1 received 5 results and 0 failures\n",
      "DEBUG flower 2022-12-06 12:43:16,841 | server.py:220 | fit_round 2: strategy sampled 10 clients (out of 10)\n",
      "DEBUG flower 2022-12-06 12:44:03,765 | server.py:234 | fit_round 2 received 10 results and 0 failures\n",
      "DEBUG flower 2022-12-06 12:44:03,835 | server.py:170 | evaluate_round 2: strategy sampled 5 clients (out of 10)\n",
      "DEBUG flower 2022-12-06 12:44:04,868 | server.py:184 | evaluate_round 2 received 5 results and 0 failures\n",
      "DEBUG flower 2022-12-06 12:44:04,869 | server.py:220 | fit_round 3: strategy sampled 10 clients (out of 10)\n",
      "DEBUG flower 2022-12-06 12:44:52,486 | server.py:234 | fit_round 3 received 10 results and 0 failures\n",
      "DEBUG flower 2022-12-06 12:44:52,570 | server.py:170 | evaluate_round 3: strategy sampled 5 clients (out of 10)\n",
      "DEBUG flower 2022-12-06 12:44:53,613 | server.py:184 | evaluate_round 3 received 5 results and 0 failures\n",
      "DEBUG flower 2022-12-06 12:44:53,615 | server.py:220 | fit_round 4: strategy sampled 10 clients (out of 10)\n",
      "DEBUG flower 2022-12-06 12:45:41,004 | server.py:234 | fit_round 4 received 10 results and 0 failures\n",
      "DEBUG flower 2022-12-06 12:45:41,199 | server.py:170 | evaluate_round 4: strategy sampled 5 clients (out of 10)\n",
      "DEBUG flower 2022-12-06 12:45:42,295 | server.py:184 | evaluate_round 4 received 5 results and 0 failures\n",
      "DEBUG flower 2022-12-06 12:45:42,296 | server.py:220 | fit_round 5: strategy sampled 10 clients (out of 10)\n",
      "DEBUG flower 2022-12-06 12:46:24,007 | server.py:234 | fit_round 5 received 10 results and 0 failures\n",
      "DEBUG flower 2022-12-06 12:46:24,335 | server.py:170 | evaluate_round 5: strategy sampled 5 clients (out of 10)\n",
      "DEBUG flower 2022-12-06 12:46:25,535 | server.py:184 | evaluate_round 5 received 5 results and 0 failures\n",
      "INFO flower 2022-12-06 12:46:25,535 | server.py:144 | FL finished in 239.42216115300835\n",
      "INFO flower 2022-12-06 12:46:25,540 | app.py:180 | app_fit: losses_distributed [(1, 0.06731279722849529), (2, 0.042655788878599804), (3, 0.019700912460684776), (4, 0.010846911819030842), (5, 0.028645703474680585)]\n",
      "INFO flower 2022-12-06 12:46:25,541 | app.py:181 | app_fit: metrics_distributed {'accuracy': [(1, 0.6020000000000001), (2, 0.5656666666666667), (3, 0.902), (4, 0.9526666666666667), (5, 0.713)]}\n",
      "INFO flower 2022-12-06 12:46:25,542 | app.py:182 | app_fit: losses_centralized []\n",
      "INFO flower 2022-12-06 12:46:25,543 | app.py:183 | app_fit: metrics_centralized {}\n"
     ]
    },
    {
     "data": {
      "text/plain": [
       "History (loss, distributed):\n",
       "\tround 1: 0.06731279722849529\n",
       "\tround 2: 0.042655788878599804\n",
       "\tround 3: 0.019700912460684776\n",
       "\tround 4: 0.010846911819030842\n",
       "\tround 5: 0.028645703474680585\n",
       "History (metrics, distributed):\n",
       "{'accuracy': [(1, 0.6020000000000001), (2, 0.5656666666666667), (3, 0.902), (4, 0.9526666666666667), (5, 0.713)]}"
      ]
     },
     "execution_count": 3,
     "metadata": {},
     "output_type": "execute_result"
    }
   ],
   "source": [
    "strategy = fl.server.strategy.FedAvg(\n",
    "        fraction_fit=1.0,  # Sample 100% of available clients for training\n",
    "        fraction_evaluate=0.5,  # Sample 50% of available clients for evaluation\n",
    "        min_fit_clients=10,  # Never sample less than 10 clients for training\n",
    "        min_evaluate_clients=5,  # Never sample less than 5 clients for evaluation\n",
    "        min_available_clients=10,  # Wait until all 10 clients are available\n",
    "        evaluate_metrics_aggregation_fn=weighted_average,\n",
    ")\n",
    "\n",
    "# Start simulation\n",
    "fl.simulation.start_simulation(\n",
    "    client_fn=client.client_fn,\n",
    "    num_clients=10,\n",
    "    config=fl.server.ServerConfig(num_rounds=5),\n",
    "    strategy=strategy,\n",
    ")"
   ]
  },
  {
   "cell_type": "code",
   "execution_count": 4,
   "metadata": {},
   "outputs": [],
   "source": [
    "def test_cnn_size_mnist() -> None:\n",
    "    \"\"\"Test number of parameters with MNIST-sized inputs.\"\"\"\n",
    "    # Prepare\n",
    "    net = model.Net()\n",
    "    expected = 1_663_370\n",
    "\n",
    "    # Execute\n",
    "    actual = sum([p.numel() for p in net.parameters()])\n",
    "\n",
    "    # Assert\n",
    "    assert actual == expected\n",
    "\n",
    "test_cnn_size_mnist()"
   ]
  },
  {
   "cell_type": "code",
   "execution_count": null,
   "metadata": {},
   "outputs": [],
   "source": []
  }
 ],
 "metadata": {
  "kernelspec": {
   "display_name": "flower-3.7.12",
   "language": "python",
   "name": "python3"
  },
  "language_info": {
   "codemirror_mode": {
    "name": "ipython",
    "version": 3
   },
   "file_extension": ".py",
   "mimetype": "text/x-python",
   "name": "python",
   "nbconvert_exporter": "python",
   "pygments_lexer": "ipython3",
   "version": "3.7.12"
  },
  "orig_nbformat": 4,
  "vscode": {
   "interpreter": {
    "hash": "ff0e7e73423825eaf7d430d88292516655b1dd0328de2b087d30a074efd4ace4"
   }
  }
 },
 "nbformat": 4,
 "nbformat_minor": 2
}
