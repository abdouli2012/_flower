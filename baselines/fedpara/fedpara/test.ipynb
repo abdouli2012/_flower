{
 "cells": [
  {
   "cell_type": "code",
   "execution_count": 1,
   "metadata": {},
   "outputs": [],
   "source": [
    "import torchvision.datasets\n",
    "import torchvision.transforms as transforms\n",
    "import numpy as np\n",
    "from collections import Counter\n",
    "import logging"
   ]
  },
  {
   "cell_type": "code",
   "execution_count": 2,
   "metadata": {},
   "outputs": [],
   "source": [
    "data = torchvision.datasets.MNIST\n",
    "transform= transforms.Compose([transforms.ToTensor(), transforms.Normalize((0.1307,), (0.3081,))])\n",
    "trainset = data(root='./data', train = True, download = True, transform = transform)"
   ]
  },
  {
   "cell_type": "code",
   "execution_count": 89,
   "metadata": {},
   "outputs": [],
   "source": [
    "def mnist_niid(dataset: Dataset, num_clients: int, silo_size: int, seed: int) -> list:\n",
    "    indices = trainset.targets[np.argsort(trainset.targets)].numpy()\n",
    "    logging.debug(Counter(trainset.targets[indices].numpy()))\n",
    "    silos = np.array_split(indices, len(trainset) // 300)# randomly assign silos to clients\n",
    "    np.random.seed(seed+17)\n",
    "    np.random.shuffle(silos)\n",
    "    clients = np.array(np.array_split(silos, 100)).reshape(100, -1)\n",
    "    logging.debug(clients.shape)\n",
    "    logging.debug(Counter([len(Counter(trainset.targets[client].numpy())) for client in clients]))\n",
    "    return clients"
   ]
  },
  {
   "cell_type": "code",
   "execution_count": 98,
   "metadata": {},
   "outputs": [
    {
     "data": {
      "text/plain": [
       "Counter({2: 82, 1: 11, 3: 7})"
      ]
     },
     "execution_count": 98,
     "metadata": {},
     "output_type": "execute_result"
    }
   ],
   "source": []
  }
 ],
 "metadata": {
  "kernelspec": {
   "display_name": "flower",
   "language": "python",
   "name": "python3"
  },
  "language_info": {
   "codemirror_mode": {
    "name": "ipython",
    "version": 3
   },
   "file_extension": ".py",
   "mimetype": "text/x-python",
   "name": "python",
   "nbconvert_exporter": "python",
   "pygments_lexer": "ipython3",
   "version": "3.10.13"
  }
 },
 "nbformat": 4,
 "nbformat_minor": 2
}
