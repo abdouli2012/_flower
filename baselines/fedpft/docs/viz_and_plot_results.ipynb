{
 "cells": [
  {
   "cell_type": "code",
   "execution_count": 2,
   "id": "5e0cf2a9-b782-48de-ac45-128726a26e64",
   "metadata": {},
   "outputs": [
    {
     "ename": "ModuleNotFoundError",
     "evalue": "No module named 'matplotlib'",
     "output_type": "error",
     "traceback": [
      "\u001b[1;31m---------------------------------------------------------------------------\u001b[0m",
      "\u001b[1;31mModuleNotFoundError\u001b[0m                       Traceback (most recent call last)",
      "Cell \u001b[1;32mIn[2], line 7\u001b[0m\n\u001b[0;32m      4\u001b[0m \u001b[38;5;28;01mimport\u001b[39;00m \u001b[38;5;21;01mos\u001b[39;00m\n\u001b[0;32m      6\u001b[0m \u001b[38;5;28;01mimport\u001b[39;00m \u001b[38;5;21;01mnumpy\u001b[39;00m \u001b[38;5;28;01mas\u001b[39;00m \u001b[38;5;21;01mnp\u001b[39;00m\n\u001b[1;32m----> 7\u001b[0m \u001b[38;5;28;01mimport\u001b[39;00m \u001b[38;5;21;01mmatplotlib\u001b[39;00m\u001b[38;5;21;01m.\u001b[39;00m\u001b[38;5;21;01mpyplot\u001b[39;00m \u001b[38;5;28;01mas\u001b[39;00m \u001b[38;5;21;01mplt\u001b[39;00m\n",
      "\u001b[1;31mModuleNotFoundError\u001b[0m: No module named 'matplotlib'"
     ]
    }
   ],
   "source": [
    "import pickle\n",
    "import yaml\n",
    "from pathlib import Path\n",
    "import os\n",
    "\n",
    "import numpy as np\n",
    "import matplotlib.pyplot as plt"
   ]
  },
  {
   "cell_type": "code",
   "execution_count": 15,
   "id": "7ea3e149-ce6f-4ba0-aa41-e0501a04efe3",
   "metadata": {},
   "outputs": [],
   "source": [
    "def saveFig(name, fig):\n",
    "    fig.savefig(\n",
    "        name,\n",
    "        dpi=None,\n",
    "        facecolor=fig.get_facecolor(),\n",
    "        edgecolor=\"none\",\n",
    "        orientation=\"portrait\",\n",
    "        format=\"png\",\n",
    "        transparent=False,\n",
    "        bbox_inches=\"tight\",\n",
    "        pad_inches=0.2,\n",
    "        metadata=None,\n",
    "    )"
   ]
  },
  {
   "cell_type": "code",
   "execution_count": 32,
   "id": "4b010856-0d99-4d81-8fb0-7a927f10eeaf",
   "metadata": {},
   "outputs": [],
   "source": [
    "# Update the path belows to the directories containing the results for FedPFT and FedAvg\n",
    "path_fedpft_resutls_cifar100 = os.path.join(os.path.realpath('..'),'outputs','2024-04-14','16-36-16')\n",
    "path_fedpft_resutls_caltech101 = os.path.join(os.path.realpath('..'),'outputs','2024-04-14','16-44-20')\n",
    "\n",
    "path_fedavg_resutls_cifar100 = os.path.join(os.path.realpath('..'),'outputs','2024-04-14','18-16-41')\n",
    "path_fedavg_resutls_caltech101 = os.path.join(os.path.realpath('..'),'outputs','2024-04-14','16-36-16')\n"
   ]
  },
  {
   "cell_type": "code",
   "execution_count": 28,
   "id": "2e3e165c-1ce6-4efa-a4e1-1372586e436e",
   "metadata": {},
   "outputs": [],
   "source": [
    "# load results\n",
    "def read_accuracies(path_to_pickle):\n",
    "    for result in list(Path(path_to_pickle).glob(\"*.pkl\")):\n",
    "        with open(result, \"rb\") as handle:\n",
    "            data = pickle.load(handle)\n",
    "\n",
    "        accuracies = data['history'].metrics_distributed['accuracy']\n",
    "        return accuracies\n"
   ]
  },
  {
   "cell_type": "code",
   "execution_count": 33,
   "id": "77b70c73",
   "metadata": {},
   "outputs": [],
   "source": [
    "fedpft_cifar = read_accuracies(path_fedpft_resutls_cifar100)\n",
    "fedpft_caltech = read_accuracies(path_fedpft_resutls_caltech101)\n",
    "fedavg_cifar = read_accuracies(path_fedavg_resutls_cifar100)\n",
    "fedavg_caltech = read_accuracies(path_fedavg_resutls_caltech101)\n"
   ]
  },
  {
   "cell_type": "code",
   "execution_count": 2,
   "id": "6f4c87ad",
   "metadata": {},
   "outputs": [],
   "source": [
    "fedavg_cifar = [(1, 0.06924765515865097),\n",
    " (2, 0.1315106765116743),\n",
    " (3, 0.16773099181800039),\n",
    " (4, 0.1946717222111355),\n",
    " (5, 0.2171223308720814),\n",
    " (6, 0.2375773298742766),\n",
    " (7, 0.2597285970864099),\n",
    " (8, 0.276092596288166),\n",
    " (9, 0.290560766314109),\n",
    " (10, 0.3036320095789264),\n",
    " (11, 0.3128118140091798),\n",
    " (12, 0.3261823987228098),\n",
    " (13, 0.33745759329475156),\n",
    " (14, 0.3477349830373179),\n",
    " (15, 0.35831171422869684),\n",
    " (16, 0.36679305527838757),\n",
    " (17, 0.37407703053282776),\n",
    " (18, 0.3817601277190182),\n",
    " (19, 0.38824585910995807),\n",
    " (20, 0.3942326880862103)]"
   ]
  },
  {
   "cell_type": "code",
   "execution_count": 59,
   "id": "e1a678de",
   "metadata": {},
   "outputs": [
    {
     "name": "stderr",
     "output_type": "stream",
     "text": [
      "No artists with labels found to put in legend.  Note that artists whose label start with an underscore are ignored when legend() is called with no argument.\n"
     ]
    },
    {
     "data": {
      "image/png": "[encoded data removed]",
      "text/plain": [
       "<Figure size 1000x200 with 2 Axes>"
      ]
     },
     "metadata": {},
     "output_type": "display_data"
    }
   ],
   "source": [
    "def viz():\n",
    "    fig, axs = plt.subplots(figsize=(10, 2), nrows=1, ncols=2)\n",
    "    \n",
    "    # cifar100 - fedavg\n",
    "    axs[0].plot([r for r, _ in fedavg_cifar], [a for _, a in fedavg_cifar], label='FedAvg', linewidth=2.0)\n",
    "    \n",
    "    axs[0].set_title('CIFAR100 - ResNet50')\n",
    "    \n",
    "    for ax in axs:\n",
    "        ax.set_xticks([1, 5, 10 , 15, 20])\n",
    "        ax.grid()\n",
    "        ax.legend(fontsize=14, loc='lower right')\n",
    "        ax.set_xlabel(\"Round\", fontsize=14)\n",
    "        ax.set_ylabel(\"Accuracy\", fontsize=14)\n",
    "\n",
    "    return fig\n",
    "\n",
    "f = viz()\n"
   ]
  },
  {
   "cell_type": "code",
   "execution_count": 20,
   "id": "92460065",
   "metadata": {},
   "outputs": [],
   "source": [
    "saveFig(\"FedProx_mnist.png\", f)"
   ]
  }
 ],
 "metadata": {
  "kernelspec": {
   "display_name": "Python 3 (ipykernel)",
   "language": "python",
   "name": "python3"
  },
  "language_info": {
   "codemirror_mode": {
    "name": "ipython",
    "version": 3
   },
   "file_extension": ".py",
   "mimetype": "text/x-python",
   "name": "python",
   "nbconvert_exporter": "python",
   "pygments_lexer": "ipython3",
   "version": "3.10.11"
  }
 },
 "nbformat": 4,
 "nbformat_minor": 5
}
