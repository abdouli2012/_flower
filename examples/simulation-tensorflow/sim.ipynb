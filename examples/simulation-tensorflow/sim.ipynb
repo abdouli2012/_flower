{
 "cells": [
  {
   "cell_type": "markdown",
   "metadata": {},
   "source": [
    "# Flower Quickstart (Simulation with TensorFlow/Keras)\n",
    "\n",
    "Welcome to Flower, a friendly federated learning framework!\n",
    "\n",
    "In this notebook, we'll simulate a federated learning system with 100 clients. The clients will use TensorFlow/Keras to define model training and evaluation. Let's start by installing Flower (published as `flwr` on PyPI) with the `simulation` extra:"
   ]
  },
  {
   "cell_type": "code",
   "execution_count": null,
   "metadata": {},
   "outputs": [],
   "source": [
    "!pip install -q flwr[\"simulation\"] tensorflow\n",
    "!pip install -q flwr_datasets[\"vision\"]"
   ]
  },
  {
   "cell_type": "markdown",
   "metadata": {},
   "source": [
    "Let's also install Matplotlib so we can make some plots once the simulation is completed"
   ]
  },
  {
   "cell_type": "code",
   "execution_count": null,
   "metadata": {},
   "outputs": [],
   "source": [
    "!pip install matplotlib"
   ]
  },
  {
   "cell_type": "markdown",
   "metadata": {},
   "source": [
    "Next, we import the required dependencies. The most important imports are Flower (`flwr`) and TensorFlow:"
   ]
  },
  {
   "cell_type": "code",
   "execution_count": 3,
   "metadata": {},
   "outputs": [],
   "source": [
    "from typing import Dict, List, Tuple\n",
    "\n",
    "import tensorflow as tf\n",
    "\n",
    "import flwr as fl\n",
    "from flwr.common import Metrics\n",
    "from flwr.simulation.ray_transport.utils import enable_tf_gpu_growth\n",
    "\n",
    "from datasets import Dataset\n",
    "from flwr_datasets import FederatedDataset\n",
    "\n",
    "VERBOSE = 0\n",
    "NUM_CLIENTS = 100"
   ]
  },
  {
   "cell_type": "markdown",
   "metadata": {},
   "source": [
    "Let's start by defining the model we want to federated. Since we will be working with MNIST, using a fully connected model is sufficient. You can of course customize this model."
   ]
  },
  {
   "cell_type": "code",
   "execution_count": 4,
   "metadata": {},
   "outputs": [],
   "source": [
    "def get_model():\n",
    "    \"\"\"Constructs a simple model architecture suitable for MNIST.\"\"\"\n",
    "    model = tf.keras.models.Sequential(\n",
    "        [\n",
    "            tf.keras.layers.Flatten(input_shape=(28, 28)),\n",
    "            tf.keras.layers.Dense(128, activation=\"relu\"),\n",
    "            tf.keras.layers.Dropout(0.2),\n",
    "            tf.keras.layers.Dense(10, activation=\"softmax\"),\n",
    "        ]\n",
    "    )\n",
    "    model.compile(\"adam\", \"sparse_categorical_crossentropy\", metrics=[\"accuracy\"])\n",
    "    return model"
   ]
  },
  {
   "cell_type": "markdown",
   "metadata": {},
   "source": [
    "With that out of the way, let's move on to the interesting bits. Federated learning systems consist of a server and multiple clients. In Flower, we create clients by implementing subclasses of `flwr.client.Client` or `flwr.client.NumPyClient`. We use `NumPyClient` in this tutorial because it is easier to implement and requires us to write less boilerplate.\n",
    "\n",
    "To implement the Flower client, we create a subclass of `flwr.client.NumPyClient` and implement the three methods `get_parameters`, `fit`, and `evaluate`:\n",
    "\n",
    "- `get_parameters`: Return the current local model parameters\n",
    "- `fit`: Receive model parameters from the server, train the model parameters on the local data, and return the (updated) model parameters to the server \n",
    "- `evaluate`: Received model parameters from the server, evaluate the model parameters on the local data, and return the evaluation result to the server\n",
    "\n",
    "We mentioned that our clients will use TensorFlow/Keras for the model training and evaluation. Keras models provide methods that make the implementation straightforward: we can update the local model with server-provides parameters through `model.set_weights`, we can train/evaluate the model through `fit/evaluate`, and we can get the updated model parameters through `model.get_weights`.\n",
    "\n",
    "Let's see a simple implementation:"
   ]
  },
  {
   "cell_type": "code",
   "execution_count": 5,
   "metadata": {},
   "outputs": [],
   "source": [
    "class FlowerClient(fl.client.NumPyClient):\n",
    "    def __init__(self, trainset, valset) -> None:\n",
    "        # Create model\n",
    "        self.model = get_model()\n",
    "        self.trainset = trainset\n",
    "        self.valset = valset\n",
    "\n",
    "    def get_parameters(self, config):\n",
    "        return self.model.get_weights()\n",
    "\n",
    "    def fit(self, parameters, config):\n",
    "        self.model.set_weights(parameters)\n",
    "        self.model.fit(self.trainset, epochs=1, verbose=VERBOSE)\n",
    "        return self.model.get_weights(), len(self.trainset), {}\n",
    "\n",
    "    def evaluate(self, parameters, config):\n",
    "        self.model.set_weights(parameters)\n",
    "        loss, acc = self.model.evaluate(self.valset, verbose=VERBOSE)\n",
    "        return loss, len(self.valset), {\"accuracy\": acc}"
   ]
  },
  {
   "cell_type": "markdown",
   "metadata": {},
   "source": [
    "Our class `FlowerClient` defines how local training/evaluation will be performed and allows Flower to call the local training/evaluation through `fit` and `evaluate`. Each instance of `FlowerClient` represents a *single client* in our federated learning system. Federated learning systems have multiple clients (otherwise, there's not much to federate, is there?), so each client will be represented by its own instance of `FlowerClient`. If we have, for example, three clients in our workload, we'd have three instances of `FlowerClient`. Flower calls `FlowerClient.fit` on the respective instance when the server selects a particular client for training (and `FlowerClient.evaluate` for evaluation).\n",
    "\n",
    "In this notebook, we want to simulate a federated learning system with 100 clients on a single machine. This means that the server and all 100 clients will live on a single machine and share resources such as CPU, GPU, and memory. Having 100 clients would mean having 100 instances of `FlowerClient` in memory. Doing this on a single machine can quickly exhaust the available memory resources, even if only a subset of these clients participates in a single round of federated learning.\n",
    "\n",
    "In addition to the regular capabilities where server and clients run on multiple machines, Flower, therefore, provides special simulation capabilities that create `FlowerClient` instances only when they are actually necessary for training or evaluation. To enable the Flower framework to create clients when necessary, we need to implement a function called `client_fn` that creates a `FlowerClient` instance on demand. Flower calls `client_fn` whenever it needs an instance of one particular client to call `fit` or `evaluate` (those instances are usually discarded after use). Clients are identified by a client ID, or short `cid`. The `cid` can be used, for example, to load different local data partitions for each client"
   ]
  },
  {
   "cell_type": "markdown",
   "metadata": {},
   "source": [
    "We now define four auxiliary functions for this example (note the last two are entirely optional):\n",
    "* `get_client_fn()`: Is a function that returns another function. The returned `client_fn` will be executed by Flower's VirtualClientEngine each time a new _virtual_ client (i.e. a client that is simulated in a Python process) needs to be spawn. When are virtual clients spawned? Each time the strategy samples them to do either `fit()` (i.e. train the global model on the local data of a particular client) or `evaluate()` (i.e. evaluate the global model on the validation set of a given client).\n",
    "\n",
    "* `weighted_average()`: This is an optional function to pass to the strategy. It will be executed after an evaluation round (i.e. when client run `evaluate()`) and will aggregate the metrics clients return. In this example, we use this function to compute the weighted average accuracy of clients doing `evaluate()`.\n",
    "\n",
    "* `get_evaluate_fn()`: This is again a function that returns another function. The returned function will be executed by the strategy at the end of a `fit()` round and after a new global model has been obtained after aggregation. This is an optional argument for Flower strategies. In this example, we use the whole MNIST test set to perform this server-side evaluation."
   ]
  },
  {
   "cell_type": "code",
   "execution_count": 6,
   "metadata": {},
   "outputs": [],
   "source": [
    "def get_client_fn(dataset: FederatedDataset):\n",
    "    \"\"\"Return a function to construct a client.\n",
    "\n",
    "    The VirtualClientEngine will execute this function whenever a client is sampled by\n",
    "    the strategy to participate.\n",
    "    \"\"\"\n",
    "\n",
    "    def client_fn(cid: str) -> fl.client.Client:\n",
    "        \"\"\"Construct a FlowerClient with its own dataset partition.\"\"\"\n",
    "\n",
    "        # Extract partition for client with id = cid\n",
    "        client_dataset = dataset.load_partition(int(cid), \"train\")\n",
    "\n",
    "        # Now let's split it into train (90%) and validation (10%)\n",
    "        client_dataset_splits = client_dataset.train_test_split(test_size=0.1)\n",
    "\n",
    "        trainset = client_dataset_splits[\"train\"].to_tf_dataset(\n",
    "            columns=\"image\", label_cols=\"label\", batch_size=32\n",
    "        )\n",
    "        valset = client_dataset_splits[\"test\"].to_tf_dataset(\n",
    "            columns=\"image\", label_cols=\"label\", batch_size=64\n",
    "        )\n",
    "\n",
    "        # Create and return client\n",
    "        return FlowerClient(trainset, valset)\n",
    "\n",
    "    return client_fn\n",
    "\n",
    "\n",
    "def weighted_average(metrics: List[Tuple[int, Metrics]]) -> Metrics:\n",
    "    \"\"\"Aggregation function for (federated) evaluation metrics, i.e. those returned by\n",
    "    the client's evaluate() method.\"\"\"\n",
    "    # Multiply accuracy of each client by number of examples used\n",
    "    accuracies = [num_examples * m[\"accuracy\"] for num_examples, m in metrics]\n",
    "    examples = [num_examples for num_examples, _ in metrics]\n",
    "\n",
    "    # Aggregate and return custom metric (weighted average)\n",
    "    return {\"accuracy\": sum(accuracies) / sum(examples)}\n",
    "\n",
    "\n",
    "def get_evaluate_fn(testset: Dataset):\n",
    "    \"\"\"Return an evaluation function for server-side (i.e. centralised) evaluation.\"\"\"\n",
    "\n",
    "    # The `evaluate` function will be called after every round by the strategy\n",
    "    def evaluate(\n",
    "        server_round: int,\n",
    "        parameters: fl.common.NDArrays,\n",
    "        config: Dict[str, fl.common.Scalar],\n",
    "    ):\n",
    "        model = get_model()  # Construct the model\n",
    "        model.set_weights(parameters)  # Update model with the latest parameters\n",
    "        loss, accuracy = model.evaluate(testset, verbose=VERBOSE)\n",
    "        return loss, {\"accuracy\": accuracy}\n",
    "\n",
    "    return evaluate"
   ]
  },
  {
   "cell_type": "markdown",
   "metadata": {},
   "source": [
    "We now have `FlowerClient` which defines client-side training and evaluation, and `client_fn`, which allows Flower to create `FlowerClient` instances whenever it needs to call `fit` or `evaluate` on one particular client. The last step is to start the actual simulation using `flwr.simulation.start_simulation`. \n",
    "\n",
    "The function `start_simulation` accepts a number of arguments, amongst them the `client_fn` used to create `FlowerClient` instances, the number of clients to simulate `num_clients`, the number of rounds `num_rounds`, and the strategy. The strategy encapsulates the federated learning approach/algorithm, for example, *Federated Averaging* (FedAvg).\n",
    "\n",
    "Flower comes with a number of built-in strategies, but we can also use our own strategy implementations to customize nearly all aspects of the federated learning approach. For this example, we use the built-in `FedAvg` implementation and customize it using a few basic parameters. The last step is the actual call to `start_simulation` which - you guessed it - actually starts the simulation."
   ]
  },
  {
   "cell_type": "code",
   "execution_count": 8,
   "metadata": {},
   "outputs": [
    {
     "name": "stderr",
     "output_type": "stream",
     "text": [
      "INFO flwr 2023-11-22 16:22:26,026 | app.py:178 | Starting Flower simulation, config: ServerConfig(num_rounds=10, round_timeout=None)\n",
      "2023-11-22 16:22:29,552\tINFO worker.py:1621 -- Started a local Ray instance.\n",
      "INFO flwr 2023-11-22 16:22:30,326 | app.py:213 | Flower VCE: Ray initialized with resources: {'memory': 18630541312.0, 'node:__internal_head__': 1.0, 'node:127.0.0.1': 1.0, 'object_store_memory': 2147483648.0, 'CPU': 10.0}\n",
      "INFO flwr 2023-11-22 16:22:30,326 | app.py:219 | Optimize your simulation with Flower VCE: https://flower.dev/docs/framework/how-to-run-simulations.html\n",
      "INFO flwr 2023-11-22 16:22:30,326 | app.py:242 | Flower VCE: Resources for each Virtual Client: {'num_cpus': 1, 'num_gpus': 0.0}\n",
      "INFO flwr 2023-11-22 16:22:30,335 | app.py:288 | Flower VCE: Creating VirtualClientEngineActorPool with 10 actors\n",
      "INFO flwr 2023-11-22 16:22:30,336 | server.py:89 | Initializing global parameters\n",
      "INFO flwr 2023-11-22 16:22:30,336 | server.py:276 | Requesting initial parameters from one random client\n",
      "INFO flwr 2023-11-22 16:22:34,487 | server.py:280 | Received initial parameters from one random client\n",
      "INFO flwr 2023-11-22 16:22:34,487 | server.py:91 | Evaluating initial parameters\n",
      "2023-11-22 16:22:34.515987: W tensorflow/tsl/platform/profile_utils/cpu_utils.cc:128] Failed to get CPU frequency: 0 Hz\n",
      "INFO flwr 2023-11-22 16:22:35,156 | server.py:94 | initial parameters (loss, other metrics): 155.54043579101562, {'accuracy': 0.10869999974966049}\n",
      "INFO flwr 2023-11-22 16:22:35,156 | server.py:104 | FL starting\n",
      "DEBUG flwr 2023-11-22 16:22:35,156 | server.py:222 | fit_round 1: strategy sampled 10 clients (out of 100)\n",
      "\u001b[2m\u001b[36m(DefaultActor pid=20659)\u001b[0m 2023-11-22 16:22:35.288528: W tensorflow/tsl/platform/profile_utils/cpu_utils.cc:128] Failed to get CPU frequency: 0 Hz\n",
      "\u001b[2m\u001b[36m(DefaultActor pid=20651)\u001b[0m 2023-11-22 16:22:35.669762: W tensorflow/tsl/platform/profile_utils/cpu_utils.cc:128] Failed to get CPU frequency: 0 Hz\n",
      "\u001b[2m\u001b[36m(DefaultActor pid=20652)\u001b[0m 2023-11-22 16:22:35.698257: W tensorflow/tsl/platform/profile_utils/cpu_utils.cc:128] Failed to get CPU frequency: 0 Hz\n",
      "\u001b[2m\u001b[36m(DefaultActor pid=20658)\u001b[0m 2023-11-22 16:22:35.647161: W tensorflow/tsl/platform/profile_utils/cpu_utils.cc:128] Failed to get CPU frequency: 0 Hz\n",
      "\u001b[2m\u001b[36m(DefaultActor pid=20653)\u001b[0m 2023-11-22 16:22:35.661137: W tensorflow/tsl/platform/profile_utils/cpu_utils.cc:128] Failed to get CPU frequency: 0 Hz\n",
      "\u001b[2m\u001b[36m(DefaultActor pid=20656)\u001b[0m 2023-11-22 16:22:35.667225: W tensorflow/tsl/platform/profile_utils/cpu_utils.cc:128] Failed to get CPU frequency: 0 Hz\n",
      "\u001b[2m\u001b[36m(DefaultActor pid=20654)\u001b[0m 2023-11-22 16:22:35.693471: W tensorflow/tsl/platform/profile_utils/cpu_utils.cc:128] Failed to get CPU frequency: 0 Hz\n",
      "\u001b[2m\u001b[36m(DefaultActor pid=20657)\u001b[0m 2023-11-22 16:22:35.651065: W tensorflow/tsl/platform/profile_utils/cpu_utils.cc:128] Failed to get CPU frequency: 0 Hz\n",
      "\u001b[2m\u001b[36m(DefaultActor pid=20650)\u001b[0m 2023-11-22 16:22:35.734183: W tensorflow/tsl/platform/profile_utils/cpu_utils.cc:128] Failed to get CPU frequency: 0 Hz\n",
      "\u001b[2m\u001b[36m(DefaultActor pid=20655)\u001b[0m 2023-11-22 16:22:35.778771: W tensorflow/tsl/platform/profile_utils/cpu_utils.cc:128] Failed to get CPU frequency: 0 Hz\n",
      "DEBUG flwr 2023-11-22 16:22:36,086 | server.py:236 | fit_round 1 received 10 results and 0 failures\n",
      "WARNING flwr 2023-11-22 16:22:36,091 | fedavg.py:242 | No fit_metrics_aggregation_fn provided\n",
      "INFO flwr 2023-11-22 16:22:36,719 | server.py:125 | fit progress: (1, 15.715424537658691, {'accuracy': 0.683899998664856}, 1.563330833000002)\n",
      "DEBUG flwr 2023-11-22 16:22:36,720 | server.py:173 | evaluate_round 1: strategy sampled 5 clients (out of 100)\n",
      "DEBUG flwr 2023-11-22 16:22:37,034 | server.py:187 | evaluate_round 1 received 5 results and 0 failures\n",
      "DEBUG flwr 2023-11-22 16:22:37,034 | server.py:222 | fit_round 2: strategy sampled 10 clients (out of 100)\n",
      "DEBUG flwr 2023-11-22 16:22:37,616 | server.py:236 | fit_round 2 received 10 results and 0 failures\n",
      "INFO flwr 2023-11-22 16:22:38,255 | server.py:125 | fit progress: (2, 7.606204032897949, {'accuracy': 0.8008000254631042}, 3.0987273329999994)\n",
      "DEBUG flwr 2023-11-22 16:22:38,255 | server.py:173 | evaluate_round 2: strategy sampled 5 clients (out of 100)\n",
      "DEBUG flwr 2023-11-22 16:22:38,442 | server.py:187 | evaluate_round 2 received 5 results and 0 failures\n",
      "DEBUG flwr 2023-11-22 16:22:38,443 | server.py:222 | fit_round 3: strategy sampled 10 clients (out of 100)\n",
      "DEBUG flwr 2023-11-22 16:22:38,932 | server.py:236 | fit_round 3 received 10 results and 0 failures\n",
      "INFO flwr 2023-11-22 16:22:39,686 | server.py:125 | fit progress: (3, 5.205394744873047, {'accuracy': 0.8270999789237976}, 4.529924457999996)\n",
      "DEBUG flwr 2023-11-22 16:22:39,686 | server.py:173 | evaluate_round 3: strategy sampled 5 clients (out of 100)\n",
      "DEBUG flwr 2023-11-22 16:22:39,858 | server.py:187 | evaluate_round 3 received 5 results and 0 failures\n",
      "DEBUG flwr 2023-11-22 16:22:39,858 | server.py:222 | fit_round 4: strategy sampled 10 clients (out of 100)\n",
      "DEBUG flwr 2023-11-22 16:22:40,335 | server.py:236 | fit_round 4 received 10 results and 0 failures\n",
      "INFO flwr 2023-11-22 16:22:40,976 | server.py:125 | fit progress: (4, 3.733677387237549, {'accuracy': 0.8327999711036682}, 5.819403041000001)\n",
      "DEBUG flwr 2023-11-22 16:22:40,976 | server.py:173 | evaluate_round 4: strategy sampled 5 clients (out of 100)\n",
      "DEBUG flwr 2023-11-22 16:22:41,147 | server.py:187 | evaluate_round 4 received 5 results and 0 failures\n",
      "DEBUG flwr 2023-11-22 16:22:41,147 | server.py:222 | fit_round 5: strategy sampled 10 clients (out of 100)\n",
      "DEBUG flwr 2023-11-22 16:22:41,657 | server.py:236 | fit_round 5 received 10 results and 0 failures\n",
      "INFO flwr 2023-11-22 16:22:42,298 | server.py:125 | fit progress: (5, 2.815335512161255, {'accuracy': 0.8313000202178955}, 7.141731082999996)\n",
      "DEBUG flwr 2023-11-22 16:22:42,298 | server.py:173 | evaluate_round 5: strategy sampled 5 clients (out of 100)\n",
      "DEBUG flwr 2023-11-22 16:22:42,468 | server.py:187 | evaluate_round 5 received 5 results and 0 failures\n",
      "DEBUG flwr 2023-11-22 16:22:42,468 | server.py:222 | fit_round 6: strategy sampled 10 clients (out of 100)\n",
      "DEBUG flwr 2023-11-22 16:22:43,056 | server.py:236 | fit_round 6 received 10 results and 0 failures\n",
      "INFO flwr 2023-11-22 16:22:43,700 | server.py:125 | fit progress: (6, 2.235408306121826, {'accuracy': 0.8159000277519226}, 8.543430332999996)\n",
      "DEBUG flwr 2023-11-22 16:22:43,700 | server.py:173 | evaluate_round 6: strategy sampled 5 clients (out of 100)\n",
      "DEBUG flwr 2023-11-22 16:22:43,866 | server.py:187 | evaluate_round 6 received 5 results and 0 failures\n",
      "DEBUG flwr 2023-11-22 16:22:43,866 | server.py:222 | fit_round 7: strategy sampled 10 clients (out of 100)\n",
      "\u001b[2m\u001b[36m(DefaultActor pid=20652)\u001b[0m WARNING:tensorflow:5 out of the last 5 calls to <function Model.make_test_function.<locals>.test_function at 0x14568bf70> triggered tf.function retracing. Tracing is expensive and the excessive number of tracings could be due to (1) creating @tf.function repeatedly in a loop, (2) passing tensors with different shapes, (3) passing Python objects instead of tensors. For (1), please define your @tf.function outside of the loop. For (2), @tf.function has reduce_retracing=True option that can avoid unnecessary retracing. For (3), please refer to https://www.tensorflow.org/guide/function#controlling_retracing and https://www.tensorflow.org/api_docs/python/tf/function for  more details.\n",
      "DEBUG flwr 2023-11-22 16:22:44,505 | server.py:236 | fit_round 7 received 10 results and 0 failures\n",
      "INFO flwr 2023-11-22 16:22:45,150 | server.py:125 | fit progress: (7, 1.8158879280090332, {'accuracy': 0.8075000047683716}, 9.994055750000001)\n",
      "DEBUG flwr 2023-11-22 16:22:45,151 | server.py:173 | evaluate_round 7: strategy sampled 5 clients (out of 100)\n",
      "DEBUG flwr 2023-11-22 16:22:45,456 | server.py:187 | evaluate_round 7 received 5 results and 0 failures\n",
      "DEBUG flwr 2023-11-22 16:22:45,456 | server.py:222 | fit_round 8: strategy sampled 10 clients (out of 100)\n",
      "DEBUG flwr 2023-11-22 16:22:45,994 | server.py:236 | fit_round 8 received 10 results and 0 failures\n",
      "INFO flwr 2023-11-22 16:22:46,646 | server.py:125 | fit progress: (8, 1.5422184467315674, {'accuracy': 0.7965999841690063}, 11.490283500000004)\n",
      "DEBUG flwr 2023-11-22 16:22:46,647 | server.py:173 | evaluate_round 8: strategy sampled 5 clients (out of 100)\n",
      "\u001b[2m\u001b[36m(DefaultActor pid=20652)\u001b[0m WARNING:tensorflow:6 out of the last 6 calls to <function Model.make_test_function.<locals>.test_function at 0x14340faf0> triggered tf.function retracing. Tracing is expensive and the excessive number of tracings could be due to (1) creating @tf.function repeatedly in a loop, (2) passing tensors with different shapes, (3) passing Python objects instead of tensors. For (1), please define your @tf.function outside of the loop. For (2), @tf.function has reduce_retracing=True option that can avoid unnecessary retracing. For (3), please refer to https://www.tensorflow.org/guide/function#controlling_retracing and https://www.tensorflow.org/api_docs/python/tf/function for  more details.\n",
      "\u001b[2m\u001b[36m(DefaultActor pid=20653)\u001b[0m WARNING:tensorflow:5 out of the last 5 calls to <function Model.make_test_function.<locals>.test_function at 0x16b715310> triggered tf.function retracing. Tracing is expensive and the excessive number of tracings could be due to (1) creating @tf.function repeatedly in a loop, (2) passing tensors with different shapes, (3) passing Python objects instead of tensors. For (1), please define your @tf.function outside of the loop. For (2), @tf.function has reduce_retracing=True option that can avoid unnecessary retracing. For (3), please refer to https://www.tensorflow.org/guide/function#controlling_retracing and https://www.tensorflow.org/api_docs/python/tf/function for  more details.\n",
      "\u001b[2m\u001b[36m(DefaultActor pid=20654)\u001b[0m WARNING:tensorflow:5 out of the last 5 calls to <function Model.make_test_function.<locals>.test_function at 0x17f193820> triggered tf.function retracing. Tracing is expensive and the excessive number of tracings could be due to (1) creating @tf.function repeatedly in a loop, (2) passing tensors with different shapes, (3) passing Python objects instead of tensors. For (1), please define your @tf.function outside of the loop. For (2), @tf.function has reduce_retracing=True option that can avoid unnecessary retracing. For (3), please refer to https://www.tensorflow.org/guide/function#controlling_retracing and https://www.tensorflow.org/api_docs/python/tf/function for  more details.\n",
      "\u001b[2m\u001b[36m(DefaultActor pid=20655)\u001b[0m WARNING:tensorflow:5 out of the last 5 calls to <function Model.make_test_function.<locals>.test_function at 0x16c8f14c0> triggered tf.function retracing. Tracing is expensive and the excessive number of tracings could be due to (1) creating @tf.function repeatedly in a loop, (2) passing tensors with different shapes, (3) passing Python objects instead of tensors. For (1), please define your @tf.function outside of the loop. For (2), @tf.function has reduce_retracing=True option that can avoid unnecessary retracing. For (3), please refer to https://www.tensorflow.org/guide/function#controlling_retracing and https://www.tensorflow.org/api_docs/python/tf/function for  more details.\n",
      "DEBUG flwr 2023-11-22 16:22:46,814 | server.py:187 | evaluate_round 8 received 5 results and 0 failures\n",
      "DEBUG flwr 2023-11-22 16:22:46,815 | server.py:222 | fit_round 9: strategy sampled 10 clients (out of 100)\n",
      "\u001b[2m\u001b[36m(DefaultActor pid=20650)\u001b[0m WARNING:tensorflow:5 out of the last 5 calls to <function Model.make_test_function.<locals>.test_function at 0x177591280> triggered tf.function retracing. Tracing is expensive and the excessive number of tracings could be due to (1) creating @tf.function repeatedly in a loop, (2) passing tensors with different shapes, (3) passing Python objects instead of tensors. For (1), please define your @tf.function outside of the loop. For (2), @tf.function has reduce_retracing=True option that can avoid unnecessary retracing. For (3), please refer to https://www.tensorflow.org/guide/function#controlling_retracing and https://www.tensorflow.org/api_docs/python/tf/function for  more details.\n",
      "DEBUG flwr 2023-11-22 16:22:47,274 | server.py:236 | fit_round 9 received 10 results and 0 failures\n",
      "INFO flwr 2023-11-22 16:22:47,922 | server.py:125 | fit progress: (9, 1.4262261390686035, {'accuracy': 0.7955999970436096}, 12.766062833000007)\n",
      "DEBUG flwr 2023-11-22 16:22:47,923 | server.py:173 | evaluate_round 9: strategy sampled 5 clients (out of 100)\n",
      "DEBUG flwr 2023-11-22 16:22:48,097 | server.py:187 | evaluate_round 9 received 5 results and 0 failures\n",
      "DEBUG flwr 2023-11-22 16:22:48,098 | server.py:222 | fit_round 10: strategy sampled 10 clients (out of 100)\n",
      "\u001b[2m\u001b[36m(DefaultActor pid=20655)\u001b[0m WARNING:tensorflow:6 out of the last 6 calls to <function Model.make_test_function.<locals>.test_function at 0x13f6d31f0> triggered tf.function retracing. Tracing is expensive and the excessive number of tracings could be due to (1) creating @tf.function repeatedly in a loop, (2) passing tensors with different shapes, (3) passing Python objects instead of tensors. For (1), please define your @tf.function outside of the loop. For (2), @tf.function has reduce_retracing=True option that can avoid unnecessary retracing. For (3), please refer to https://www.tensorflow.org/guide/function#controlling_retracing and https://www.tensorflow.org/api_docs/python/tf/function for  more details.\n",
      "\u001b[2m\u001b[36m(DefaultActor pid=20654)\u001b[0m WARNING:tensorflow:6 out of the last 6 calls to <function Model.make_test_function.<locals>.test_function at 0x17ed12790> triggered tf.function retracing. Tracing is expensive and the excessive number of tracings could be due to (1) creating @tf.function repeatedly in a loop, (2) passing tensors with different shapes, (3) passing Python objects instead of tensors. For (1), please define your @tf.function outside of the loop. For (2), @tf.function has reduce_retracing=True option that can avoid unnecessary retracing. For (3), please refer to https://www.tensorflow.org/guide/function#controlling_retracing and https://www.tensorflow.org/api_docs/python/tf/function for  more details.\n",
      "DEBUG flwr 2023-11-22 16:22:48,610 | server.py:236 | fit_round 10 received 10 results and 0 failures\n",
      "INFO flwr 2023-11-22 16:22:49,259 | server.py:125 | fit progress: (10, 1.3508485555648804, {'accuracy': 0.8105000257492065}, 14.103267540999994)\n",
      "DEBUG flwr 2023-11-22 16:22:49,260 | server.py:173 | evaluate_round 10: strategy sampled 5 clients (out of 100)\n",
      "\u001b[2m\u001b[36m(DefaultActor pid=20650)\u001b[0m WARNING:tensorflow:6 out of the last 6 calls to <function Model.make_test_function.<locals>.test_function at 0x1757911f0> triggered tf.function retracing. Tracing is expensive and the excessive number of tracings could be due to (1) creating @tf.function repeatedly in a loop, (2) passing tensors with different shapes, (3) passing Python objects instead of tensors. For (1), please define your @tf.function outside of the loop. For (2), @tf.function has reduce_retracing=True option that can avoid unnecessary retracing. For (3), please refer to https://www.tensorflow.org/guide/function#controlling_retracing and https://www.tensorflow.org/api_docs/python/tf/function for  more details.\n",
      "\u001b[2m\u001b[36m(DefaultActor pid=20657)\u001b[0m WARNING:tensorflow:5 out of the last 5 calls to <function Model.make_test_function.<locals>.test_function at 0x301e0d820> triggered tf.function retracing. Tracing is expensive and the excessive number of tracings could be due to (1) creating @tf.function repeatedly in a loop, (2) passing tensors with different shapes, (3) passing Python objects instead of tensors. For (1), please define your @tf.function outside of the loop. For (2), @tf.function has reduce_retracing=True option that can avoid unnecessary retracing. For (3), please refer to https://www.tensorflow.org/guide/function#controlling_retracing and https://www.tensorflow.org/api_docs/python/tf/function for  more details.\n",
      "DEBUG flwr 2023-11-22 16:22:49,560 | server.py:187 | evaluate_round 10 received 5 results and 0 failures\n",
      "INFO flwr 2023-11-22 16:22:49,561 | server.py:153 | FL finished in 14.404562083000002\n",
      "INFO flwr 2023-11-22 16:22:49,561 | app.py:226 | app_fit: losses_distributed [(1, 18.26589756011963), (2, 11.237173175811767), (3, 6.372951173782349), (4, 4.542246103286743), (5, 3.13306930065155), (6, 1.9622910261154174), (7, 1.5356061220169068), (8, 1.5580432415008545), (9, 1.7750692963600159), (10, 1.2530065298080444)]\n",
      "INFO flwr 2023-11-22 16:22:49,561 | app.py:227 | app_fit: metrics_distributed_fit {}\n",
      "INFO flwr 2023-11-22 16:22:49,562 | app.py:228 | app_fit: metrics_distributed {'accuracy': [(1, 0.6366666674613952), (2, 0.7200000166893006), (3, 0.8166666626930237), (4, 0.8566666841506958), (5, 0.8399999856948852), (6, 0.8400000095367431), (7, 0.8066666722297668), (8, 0.7733333349227905), (9, 0.7766666650772095), (10, 0.8)]}\n",
      "INFO flwr 2023-11-22 16:22:49,562 | app.py:229 | app_fit: losses_centralized [(0, 155.54043579101562), (1, 15.715424537658691), (2, 7.606204032897949), (3, 5.205394744873047), (4, 3.733677387237549), (5, 2.815335512161255), (6, 2.235408306121826), (7, 1.8158879280090332), (8, 1.5422184467315674), (9, 1.4262261390686035), (10, 1.3508485555648804)]\n",
      "INFO flwr 2023-11-22 16:22:49,562 | app.py:230 | app_fit: metrics_centralized {'accuracy': [(0, 0.10869999974966049), (1, 0.683899998664856), (2, 0.8008000254631042), (3, 0.8270999789237976), (4, 0.8327999711036682), (5, 0.8313000202178955), (6, 0.8159000277519226), (7, 0.8075000047683716), (8, 0.7965999841690063), (9, 0.7955999970436096), (10, 0.8105000257492065)]}\n"
     ]
    }
   ],
   "source": [
    "# Enable GPU growth in your main process\n",
    "enable_tf_gpu_growth()\n",
    "\n",
    "# Download MNIST dataset and partition it\n",
    "mnist_fds = FederatedDataset(dataset=\"mnist\", partitioners={\"train\": NUM_CLIENTS})\n",
    "# Get the whole test set for centralised evaluation\n",
    "centralized_testset = mnist_fds.load_full(\"test\").to_tf_dataset(\n",
    "    columns=\"image\", label_cols=\"label\", batch_size=64\n",
    ")\n",
    "\n",
    "\n",
    "# Create FedAvg strategy\n",
    "strategy = fl.server.strategy.FedAvg(\n",
    "    fraction_fit=0.1,  # Sample 10% of available clients for training\n",
    "    fraction_evaluate=0.05,  # Sample 5% of available clients for evaluation\n",
    "    min_fit_clients=10,  # Never sample less than 10 clients for training\n",
    "    min_evaluate_clients=5,  # Never sample less than 5 clients for evaluation\n",
    "    min_available_clients=int(\n",
    "        NUM_CLIENTS * 0.75\n",
    "    ),  # Wait until at least 75 clients are available\n",
    "    evaluate_metrics_aggregation_fn=weighted_average,  # aggregates federated metrics\n",
    "    evaluate_fn=get_evaluate_fn(centralized_testset),  # global evaluation function\n",
    ")\n",
    "\n",
    "# With a dictionary, you tell Flower's VirtualClientEngine that each\n",
    "# client needs exclusive access to these many resources in order to run\n",
    "client_resources = {\"num_cpus\": 1, \"num_gpus\": 0.0}\n",
    "\n",
    "# Start simulation\n",
    "history = fl.simulation.start_simulation(\n",
    "    client_fn=get_client_fn(mnist_fds),\n",
    "    num_clients=NUM_CLIENTS,\n",
    "    config=fl.server.ServerConfig(num_rounds=10),\n",
    "    strategy=strategy,\n",
    "    client_resources=client_resources,\n",
    "    actor_kwargs={\n",
    "        \"on_actor_init_fn\": enable_tf_gpu_growth  # Enable GPU growth upon actor init.\n",
    "    },\n",
    ")"
   ]
  },
  {
   "cell_type": "markdown",
   "metadata": {},
   "source": [
    "You can then use the resturned History object to either save the results to disk or do some visualisation (or both of course, or neither if you like chaos). Below you can see how you can plot the centralised accuracy obtainined at the end of each round (including at the very beginning of the experiment) for the global model. This is want the function evaluate_fn() that we passed to the strategy reports."
   ]
  },
  {
   "cell_type": "code",
   "execution_count": 9,
   "metadata": {},
   "outputs": [
    {
     "name": "stdout",
     "output_type": "stream",
     "text": [
      "history.metrics_centralized = {'accuracy': [(0, 0.10869999974966049), (1, 0.683899998664856), (2, 0.8008000254631042), (3, 0.8270999789237976), (4, 0.8327999711036682), (5, 0.8313000202178955), (6, 0.8159000277519226), (7, 0.8075000047683716), (8, 0.7965999841690063), (9, 0.7955999970436096), (10, 0.8105000257492065)]}\n"
     ]
    },
    {
     "data": {
      "text/plain": [
       "Text(0.5, 1.0, 'MNIST - IID - 100 clients with 10 clients per round')"
      ]
     },
     "execution_count": 9,
     "metadata": {},
     "output_type": "execute_result"
    },
    {
     "data": {
      "image/png": "[encoded data removed]",
      "text/plain": [
       "<Figure size 640x480 with 1 Axes>"
      ]
     },
     "metadata": {},
     "output_type": "display_data"
    }
   ],
   "source": [
    "import matplotlib.pyplot as plt\n",
    "\n",
    "print(f\"{history.metrics_centralized = }\")\n",
    "\n",
    "global_accuracy_centralised = history.metrics_centralized[\"accuracy\"]\n",
    "round = [data[0] for data in global_accuracy_centralised]\n",
    "acc = [100.0 * data[1] for data in global_accuracy_centralised]\n",
    "plt.plot(round, acc)\n",
    "plt.grid()\n",
    "plt.ylabel(\"Accuracy (%)\")\n",
    "plt.xlabel(\"Round\")\n",
    "plt.title(\"MNIST - IID - 100 clients with 10 clients per round\")"
   ]
  },
  {
   "cell_type": "markdown",
   "metadata": {},
   "source": [
    "Congratulations! With that, you built a Flower client, customized it's instantiation through the `client_fn`, customized the server-side execution through a `FedAvg` strategy configured for this workload, and started a simulation with 100 clients (each holding their own individual partition of the MNIST dataset).\n",
    "\n",
    "Next, you can continue to explore more advanced Flower topics:\n",
    "\n",
    "- Deploy server and clients on different machines using `start_server` and `start_client`\n",
    "- Customize the server-side execution through custom strategies\n",
    "- Customize the client-side execution through `config` dictionaries"
   ]
  },
  {
   "cell_type": "markdown",
   "metadata": {},
   "source": []
  }
 ],
 "metadata": {
  "colab": {
   "name": "flower.ipynb",
   "provenance": []
  },
  "kernelspec": {
   "display_name": "Python 3 (ipykernel)",
   "language": "python",
   "name": "python3"
  },
  "language_info": {
   "codemirror_mode": {
    "name": "ipython",
    "version": 3
   },
   "file_extension": ".py",
   "mimetype": "text/x-python",
   "name": "python",
   "nbconvert_exporter": "python",
   "pygments_lexer": "ipython3",
   "version": "3.9.16"
  }
 },
 "nbformat": 4,
 "nbformat_minor": 4
}
